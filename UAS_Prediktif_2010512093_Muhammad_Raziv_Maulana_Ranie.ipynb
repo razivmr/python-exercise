{
  "nbformat": 4,
  "nbformat_minor": 0,
  "metadata": {
    "colab": {
      "provenance": []
    },
    "kernelspec": {
      "name": "python3",
      "display_name": "Python 3"
    },
    "language_info": {
      "name": "python"
    }
  },
  "cells": [
    {
      "cell_type": "markdown",
      "source": [
        "## **Project Predictive Analytics**\n",
        "\n",
        "### 2010512093 - Muhammad Raziv Maulana Ranie"
      ],
      "metadata": {
        "id": "rHxN0T5CEEnk"
      }
    },
    {
      "cell_type": "markdown",
      "source": [
        "## Import Library"
      ],
      "metadata": {
        "id": "MetrNP1KELaF"
      }
    },
    {
      "cell_type": "code",
      "execution_count": 1,
      "metadata": {
        "id": "NQaBV1UDWKdo"
      },
      "outputs": [],
      "source": [
        "import pandas as pd\n",
        "import numpy as np\n",
        "import matplotlib.pyplot as plt\n",
        "import seaborn as sns\n",
        "import datetime as dt\n",
        "\n",
        "from sklearn.tree import DecisionTreeClassifier\n",
        "from sklearn.linear_model import LogisticRegression\n",
        "from sklearn.ensemble import RandomForestClassifier\n",
        "from xgboost import XGBClassifier\n",
        "\n",
        "\n",
        "from sklearn.preprocessing import LabelEncoder\n",
        "from sklearn.model_selection import train_test_split\n",
        "from sklearn.metrics import confusion_matrix, classification_report, accuracy_score, precision_score"
      ]
    },
    {
      "cell_type": "code",
      "source": [
        "df = pd.read_csv('data_retail.csv')\n",
        "df.head()"
      ],
      "metadata": {
        "colab": {
          "base_uri": "https://localhost:8080/",
          "height": 206
        },
        "id": "5dX2aPyIWU2x",
        "outputId": "ce86d1cd-c387-4ac5-b265-fd62e6d37e04"
      },
      "execution_count": 2,
      "outputs": [
        {
          "output_type": "execute_result",
          "data": {
            "text/plain": [
              "   no  Row_Num  Customer_ID Product  First_Transaction  Last_Transaction  \\\n",
              "0   1        1        29531   Jaket      1466304274396      1.538718e+12   \n",
              "1   2        2        29531  Sepatu      1406077331494      1.545736e+12   \n",
              "2   3        3       141526     Tas      1493349147000      1.548323e+12   \n",
              "3   4        4       141526   Jaket      1493362372547      1.547644e+12   \n",
              "4   5        5        37545  Sepatu      1429178498531      1.542891e+12   \n",
              "\n",
              "   Average_Transaction_Amount  Count_Transaction  \n",
              "0                   1467681.0               22.0  \n",
              "1                   1269337.0               41.0  \n",
              "2                    310915.0               30.0  \n",
              "3                    722632.0               27.0  \n",
              "4                   1775036.0               25.0  "
            ],
            "text/html": [
              "\n",
              "  <div id=\"df-b350ee9d-a8da-47a3-b65a-492aa90087e0\">\n",
              "    <div class=\"colab-df-container\">\n",
              "      <div>\n",
              "<style scoped>\n",
              "    .dataframe tbody tr th:only-of-type {\n",
              "        vertical-align: middle;\n",
              "    }\n",
              "\n",
              "    .dataframe tbody tr th {\n",
              "        vertical-align: top;\n",
              "    }\n",
              "\n",
              "    .dataframe thead th {\n",
              "        text-align: right;\n",
              "    }\n",
              "</style>\n",
              "<table border=\"1\" class=\"dataframe\">\n",
              "  <thead>\n",
              "    <tr style=\"text-align: right;\">\n",
              "      <th></th>\n",
              "      <th>no</th>\n",
              "      <th>Row_Num</th>\n",
              "      <th>Customer_ID</th>\n",
              "      <th>Product</th>\n",
              "      <th>First_Transaction</th>\n",
              "      <th>Last_Transaction</th>\n",
              "      <th>Average_Transaction_Amount</th>\n",
              "      <th>Count_Transaction</th>\n",
              "    </tr>\n",
              "  </thead>\n",
              "  <tbody>\n",
              "    <tr>\n",
              "      <th>0</th>\n",
              "      <td>1</td>\n",
              "      <td>1</td>\n",
              "      <td>29531</td>\n",
              "      <td>Jaket</td>\n",
              "      <td>1466304274396</td>\n",
              "      <td>1.538718e+12</td>\n",
              "      <td>1467681.0</td>\n",
              "      <td>22.0</td>\n",
              "    </tr>\n",
              "    <tr>\n",
              "      <th>1</th>\n",
              "      <td>2</td>\n",
              "      <td>2</td>\n",
              "      <td>29531</td>\n",
              "      <td>Sepatu</td>\n",
              "      <td>1406077331494</td>\n",
              "      <td>1.545736e+12</td>\n",
              "      <td>1269337.0</td>\n",
              "      <td>41.0</td>\n",
              "    </tr>\n",
              "    <tr>\n",
              "      <th>2</th>\n",
              "      <td>3</td>\n",
              "      <td>3</td>\n",
              "      <td>141526</td>\n",
              "      <td>Tas</td>\n",
              "      <td>1493349147000</td>\n",
              "      <td>1.548323e+12</td>\n",
              "      <td>310915.0</td>\n",
              "      <td>30.0</td>\n",
              "    </tr>\n",
              "    <tr>\n",
              "      <th>3</th>\n",
              "      <td>4</td>\n",
              "      <td>4</td>\n",
              "      <td>141526</td>\n",
              "      <td>Jaket</td>\n",
              "      <td>1493362372547</td>\n",
              "      <td>1.547644e+12</td>\n",
              "      <td>722632.0</td>\n",
              "      <td>27.0</td>\n",
              "    </tr>\n",
              "    <tr>\n",
              "      <th>4</th>\n",
              "      <td>5</td>\n",
              "      <td>5</td>\n",
              "      <td>37545</td>\n",
              "      <td>Sepatu</td>\n",
              "      <td>1429178498531</td>\n",
              "      <td>1.542891e+12</td>\n",
              "      <td>1775036.0</td>\n",
              "      <td>25.0</td>\n",
              "    </tr>\n",
              "  </tbody>\n",
              "</table>\n",
              "</div>\n",
              "      <button class=\"colab-df-convert\" onclick=\"convertToInteractive('df-b350ee9d-a8da-47a3-b65a-492aa90087e0')\"\n",
              "              title=\"Convert this dataframe to an interactive table.\"\n",
              "              style=\"display:none;\">\n",
              "        \n",
              "  <svg xmlns=\"http://www.w3.org/2000/svg\" height=\"24px\"viewBox=\"0 0 24 24\"\n",
              "       width=\"24px\">\n",
              "    <path d=\"M0 0h24v24H0V0z\" fill=\"none\"/>\n",
              "    <path d=\"M18.56 5.44l.94 2.06.94-2.06 2.06-.94-2.06-.94-.94-2.06-.94 2.06-2.06.94zm-11 1L8.5 8.5l.94-2.06 2.06-.94-2.06-.94L8.5 2.5l-.94 2.06-2.06.94zm10 10l.94 2.06.94-2.06 2.06-.94-2.06-.94-.94-2.06-.94 2.06-2.06.94z\"/><path d=\"M17.41 7.96l-1.37-1.37c-.4-.4-.92-.59-1.43-.59-.52 0-1.04.2-1.43.59L10.3 9.45l-7.72 7.72c-.78.78-.78 2.05 0 2.83L4 21.41c.39.39.9.59 1.41.59.51 0 1.02-.2 1.41-.59l7.78-7.78 2.81-2.81c.8-.78.8-2.07 0-2.86zM5.41 20L4 18.59l7.72-7.72 1.47 1.35L5.41 20z\"/>\n",
              "  </svg>\n",
              "      </button>\n",
              "      \n",
              "  <style>\n",
              "    .colab-df-container {\n",
              "      display:flex;\n",
              "      flex-wrap:wrap;\n",
              "      gap: 12px;\n",
              "    }\n",
              "\n",
              "    .colab-df-convert {\n",
              "      background-color: #E8F0FE;\n",
              "      border: none;\n",
              "      border-radius: 50%;\n",
              "      cursor: pointer;\n",
              "      display: none;\n",
              "      fill: #1967D2;\n",
              "      height: 32px;\n",
              "      padding: 0 0 0 0;\n",
              "      width: 32px;\n",
              "    }\n",
              "\n",
              "    .colab-df-convert:hover {\n",
              "      background-color: #E2EBFA;\n",
              "      box-shadow: 0px 1px 2px rgba(60, 64, 67, 0.3), 0px 1px 3px 1px rgba(60, 64, 67, 0.15);\n",
              "      fill: #174EA6;\n",
              "    }\n",
              "\n",
              "    [theme=dark] .colab-df-convert {\n",
              "      background-color: #3B4455;\n",
              "      fill: #D2E3FC;\n",
              "    }\n",
              "\n",
              "    [theme=dark] .colab-df-convert:hover {\n",
              "      background-color: #434B5C;\n",
              "      box-shadow: 0px 1px 3px 1px rgba(0, 0, 0, 0.15);\n",
              "      filter: drop-shadow(0px 1px 2px rgba(0, 0, 0, 0.3));\n",
              "      fill: #FFFFFF;\n",
              "    }\n",
              "  </style>\n",
              "\n",
              "      <script>\n",
              "        const buttonEl =\n",
              "          document.querySelector('#df-b350ee9d-a8da-47a3-b65a-492aa90087e0 button.colab-df-convert');\n",
              "        buttonEl.style.display =\n",
              "          google.colab.kernel.accessAllowed ? 'block' : 'none';\n",
              "\n",
              "        async function convertToInteractive(key) {\n",
              "          const element = document.querySelector('#df-b350ee9d-a8da-47a3-b65a-492aa90087e0');\n",
              "          const dataTable =\n",
              "            await google.colab.kernel.invokeFunction('convertToInteractive',\n",
              "                                                     [key], {});\n",
              "          if (!dataTable) return;\n",
              "\n",
              "          const docLinkHtml = 'Like what you see? Visit the ' +\n",
              "            '<a target=\"_blank\" href=https://colab.research.google.com/notebooks/data_table.ipynb>data table notebook</a>'\n",
              "            + ' to learn more about interactive tables.';\n",
              "          element.innerHTML = '';\n",
              "          dataTable['output_type'] = 'display_data';\n",
              "          await google.colab.output.renderOutput(dataTable, element);\n",
              "          const docLink = document.createElement('div');\n",
              "          docLink.innerHTML = docLinkHtml;\n",
              "          element.appendChild(docLink);\n",
              "        }\n",
              "      </script>\n",
              "    </div>\n",
              "  </div>\n",
              "  "
            ]
          },
          "metadata": {},
          "execution_count": 2
        }
      ]
    },
    {
      "cell_type": "markdown",
      "source": [
        "## Exploratory dataset"
      ],
      "metadata": {
        "id": "A7qaxFtYEc2C"
      }
    },
    {
      "cell_type": "code",
      "source": [
        "df.columns"
      ],
      "metadata": {
        "colab": {
          "base_uri": "https://localhost:8080/"
        },
        "id": "pJKYJt2bSr9k",
        "outputId": "2c57d3f1-e4e0-4e5c-b3ab-54ef1f660429"
      },
      "execution_count": 3,
      "outputs": [
        {
          "output_type": "execute_result",
          "data": {
            "text/plain": [
              "Index(['no', 'Row_Num', 'Customer_ID', 'Product', 'First_Transaction',\n",
              "       'Last_Transaction', 'Average_Transaction_Amount', 'Count_Transaction'],\n",
              "      dtype='object')"
            ]
          },
          "metadata": {},
          "execution_count": 3
        }
      ]
    },
    {
      "cell_type": "code",
      "source": [
        "df.info()"
      ],
      "metadata": {
        "colab": {
          "base_uri": "https://localhost:8080/"
        },
        "id": "VsAK6DOaS6ID",
        "outputId": "08f3cb77-4b7f-4940-eded-92ed3ff2e2ab"
      },
      "execution_count": 4,
      "outputs": [
        {
          "output_type": "stream",
          "name": "stdout",
          "text": [
            "<class 'pandas.core.frame.DataFrame'>\n",
            "RangeIndex: 16615 entries, 0 to 16614\n",
            "Data columns (total 8 columns):\n",
            " #   Column                      Non-Null Count  Dtype  \n",
            "---  ------                      --------------  -----  \n",
            " 0   no                          16615 non-null  int64  \n",
            " 1   Row_Num                     16615 non-null  int64  \n",
            " 2   Customer_ID                 16615 non-null  int64  \n",
            " 3   Product                     16615 non-null  object \n",
            " 4   First_Transaction           16615 non-null  int64  \n",
            " 5   Last_Transaction            16614 non-null  float64\n",
            " 6   Average_Transaction_Amount  16614 non-null  float64\n",
            " 7   Count_Transaction           16614 non-null  float64\n",
            "dtypes: float64(3), int64(4), object(1)\n",
            "memory usage: 1.0+ MB\n"
          ]
        }
      ]
    },
    {
      "cell_type": "code",
      "source": [
        "df.dtypes"
      ],
      "metadata": {
        "colab": {
          "base_uri": "https://localhost:8080/"
        },
        "id": "dO7fNapVej61",
        "outputId": "a60569f0-7d68-4c6b-ec5b-070276c2feb8"
      },
      "execution_count": 5,
      "outputs": [
        {
          "output_type": "execute_result",
          "data": {
            "text/plain": [
              "no                              int64\n",
              "Row_Num                         int64\n",
              "Customer_ID                     int64\n",
              "Product                        object\n",
              "First_Transaction               int64\n",
              "Last_Transaction              float64\n",
              "Average_Transaction_Amount    float64\n",
              "Count_Transaction             float64\n",
              "dtype: object"
            ]
          },
          "metadata": {},
          "execution_count": 5
        }
      ]
    },
    {
      "cell_type": "code",
      "source": [
        "df.describe()"
      ],
      "metadata": {
        "colab": {
          "base_uri": "https://localhost:8080/",
          "height": 300
        },
        "id": "GnUwqvtISkg9",
        "outputId": "98af1576-7ff6-42b8-b98d-4d16a9e7d68d"
      },
      "execution_count": 6,
      "outputs": [
        {
          "output_type": "execute_result",
          "data": {
            "text/plain": [
              "                 no       Row_Num    Customer_ID  First_Transaction  \\\n",
              "count  16615.000000  16615.000000   16615.000000       1.661500e+04   \n",
              "mean    8308.000000   8308.000000   81758.459765       1.460759e+12   \n",
              "std     4796.481697   4796.481697   74314.954189       3.725005e+10   \n",
              "min        1.000000      1.000000     654.000000       1.000000e+00   \n",
              "25%     4154.500000   4154.500000   37683.500000       1.432323e+12   \n",
              "50%     8308.000000   8308.000000   59018.000000       1.462500e+12   \n",
              "75%    12461.500000  12461.500000  106311.500000       1.490373e+12   \n",
              "max    16615.000000  16615.000000  765243.000000       1.544229e+12   \n",
              "\n",
              "       Last_Transaction  Average_Transaction_Amount  Count_Transaction  \n",
              "count      1.661400e+04                1.661400e+04       16614.000000  \n",
              "mean       1.537055e+12                1.350367e+06          50.304021  \n",
              "std        1.761627e+10                9.182051e+05          63.901782  \n",
              "min        1.423654e+12                1.011250e+05          21.000000  \n",
              "25%        1.534518e+12                7.759408e+05          26.000000  \n",
              "50%        1.544470e+12                1.187693e+06          34.000000  \n",
              "75%        1.547731e+12                1.682393e+06          54.000000  \n",
              "max        1.549065e+12                9.848073e+06        3550.000000  "
            ],
            "text/html": [
              "\n",
              "  <div id=\"df-f67f4f4a-cbf8-47b5-bf6d-d20d2852fdad\">\n",
              "    <div class=\"colab-df-container\">\n",
              "      <div>\n",
              "<style scoped>\n",
              "    .dataframe tbody tr th:only-of-type {\n",
              "        vertical-align: middle;\n",
              "    }\n",
              "\n",
              "    .dataframe tbody tr th {\n",
              "        vertical-align: top;\n",
              "    }\n",
              "\n",
              "    .dataframe thead th {\n",
              "        text-align: right;\n",
              "    }\n",
              "</style>\n",
              "<table border=\"1\" class=\"dataframe\">\n",
              "  <thead>\n",
              "    <tr style=\"text-align: right;\">\n",
              "      <th></th>\n",
              "      <th>no</th>\n",
              "      <th>Row_Num</th>\n",
              "      <th>Customer_ID</th>\n",
              "      <th>First_Transaction</th>\n",
              "      <th>Last_Transaction</th>\n",
              "      <th>Average_Transaction_Amount</th>\n",
              "      <th>Count_Transaction</th>\n",
              "    </tr>\n",
              "  </thead>\n",
              "  <tbody>\n",
              "    <tr>\n",
              "      <th>count</th>\n",
              "      <td>16615.000000</td>\n",
              "      <td>16615.000000</td>\n",
              "      <td>16615.000000</td>\n",
              "      <td>1.661500e+04</td>\n",
              "      <td>1.661400e+04</td>\n",
              "      <td>1.661400e+04</td>\n",
              "      <td>16614.000000</td>\n",
              "    </tr>\n",
              "    <tr>\n",
              "      <th>mean</th>\n",
              "      <td>8308.000000</td>\n",
              "      <td>8308.000000</td>\n",
              "      <td>81758.459765</td>\n",
              "      <td>1.460759e+12</td>\n",
              "      <td>1.537055e+12</td>\n",
              "      <td>1.350367e+06</td>\n",
              "      <td>50.304021</td>\n",
              "    </tr>\n",
              "    <tr>\n",
              "      <th>std</th>\n",
              "      <td>4796.481697</td>\n",
              "      <td>4796.481697</td>\n",
              "      <td>74314.954189</td>\n",
              "      <td>3.725005e+10</td>\n",
              "      <td>1.761627e+10</td>\n",
              "      <td>9.182051e+05</td>\n",
              "      <td>63.901782</td>\n",
              "    </tr>\n",
              "    <tr>\n",
              "      <th>min</th>\n",
              "      <td>1.000000</td>\n",
              "      <td>1.000000</td>\n",
              "      <td>654.000000</td>\n",
              "      <td>1.000000e+00</td>\n",
              "      <td>1.423654e+12</td>\n",
              "      <td>1.011250e+05</td>\n",
              "      <td>21.000000</td>\n",
              "    </tr>\n",
              "    <tr>\n",
              "      <th>25%</th>\n",
              "      <td>4154.500000</td>\n",
              "      <td>4154.500000</td>\n",
              "      <td>37683.500000</td>\n",
              "      <td>1.432323e+12</td>\n",
              "      <td>1.534518e+12</td>\n",
              "      <td>7.759408e+05</td>\n",
              "      <td>26.000000</td>\n",
              "    </tr>\n",
              "    <tr>\n",
              "      <th>50%</th>\n",
              "      <td>8308.000000</td>\n",
              "      <td>8308.000000</td>\n",
              "      <td>59018.000000</td>\n",
              "      <td>1.462500e+12</td>\n",
              "      <td>1.544470e+12</td>\n",
              "      <td>1.187693e+06</td>\n",
              "      <td>34.000000</td>\n",
              "    </tr>\n",
              "    <tr>\n",
              "      <th>75%</th>\n",
              "      <td>12461.500000</td>\n",
              "      <td>12461.500000</td>\n",
              "      <td>106311.500000</td>\n",
              "      <td>1.490373e+12</td>\n",
              "      <td>1.547731e+12</td>\n",
              "      <td>1.682393e+06</td>\n",
              "      <td>54.000000</td>\n",
              "    </tr>\n",
              "    <tr>\n",
              "      <th>max</th>\n",
              "      <td>16615.000000</td>\n",
              "      <td>16615.000000</td>\n",
              "      <td>765243.000000</td>\n",
              "      <td>1.544229e+12</td>\n",
              "      <td>1.549065e+12</td>\n",
              "      <td>9.848073e+06</td>\n",
              "      <td>3550.000000</td>\n",
              "    </tr>\n",
              "  </tbody>\n",
              "</table>\n",
              "</div>\n",
              "      <button class=\"colab-df-convert\" onclick=\"convertToInteractive('df-f67f4f4a-cbf8-47b5-bf6d-d20d2852fdad')\"\n",
              "              title=\"Convert this dataframe to an interactive table.\"\n",
              "              style=\"display:none;\">\n",
              "        \n",
              "  <svg xmlns=\"http://www.w3.org/2000/svg\" height=\"24px\"viewBox=\"0 0 24 24\"\n",
              "       width=\"24px\">\n",
              "    <path d=\"M0 0h24v24H0V0z\" fill=\"none\"/>\n",
              "    <path d=\"M18.56 5.44l.94 2.06.94-2.06 2.06-.94-2.06-.94-.94-2.06-.94 2.06-2.06.94zm-11 1L8.5 8.5l.94-2.06 2.06-.94-2.06-.94L8.5 2.5l-.94 2.06-2.06.94zm10 10l.94 2.06.94-2.06 2.06-.94-2.06-.94-.94-2.06-.94 2.06-2.06.94z\"/><path d=\"M17.41 7.96l-1.37-1.37c-.4-.4-.92-.59-1.43-.59-.52 0-1.04.2-1.43.59L10.3 9.45l-7.72 7.72c-.78.78-.78 2.05 0 2.83L4 21.41c.39.39.9.59 1.41.59.51 0 1.02-.2 1.41-.59l7.78-7.78 2.81-2.81c.8-.78.8-2.07 0-2.86zM5.41 20L4 18.59l7.72-7.72 1.47 1.35L5.41 20z\"/>\n",
              "  </svg>\n",
              "      </button>\n",
              "      \n",
              "  <style>\n",
              "    .colab-df-container {\n",
              "      display:flex;\n",
              "      flex-wrap:wrap;\n",
              "      gap: 12px;\n",
              "    }\n",
              "\n",
              "    .colab-df-convert {\n",
              "      background-color: #E8F0FE;\n",
              "      border: none;\n",
              "      border-radius: 50%;\n",
              "      cursor: pointer;\n",
              "      display: none;\n",
              "      fill: #1967D2;\n",
              "      height: 32px;\n",
              "      padding: 0 0 0 0;\n",
              "      width: 32px;\n",
              "    }\n",
              "\n",
              "    .colab-df-convert:hover {\n",
              "      background-color: #E2EBFA;\n",
              "      box-shadow: 0px 1px 2px rgba(60, 64, 67, 0.3), 0px 1px 3px 1px rgba(60, 64, 67, 0.15);\n",
              "      fill: #174EA6;\n",
              "    }\n",
              "\n",
              "    [theme=dark] .colab-df-convert {\n",
              "      background-color: #3B4455;\n",
              "      fill: #D2E3FC;\n",
              "    }\n",
              "\n",
              "    [theme=dark] .colab-df-convert:hover {\n",
              "      background-color: #434B5C;\n",
              "      box-shadow: 0px 1px 3px 1px rgba(0, 0, 0, 0.15);\n",
              "      filter: drop-shadow(0px 1px 2px rgba(0, 0, 0, 0.3));\n",
              "      fill: #FFFFFF;\n",
              "    }\n",
              "  </style>\n",
              "\n",
              "      <script>\n",
              "        const buttonEl =\n",
              "          document.querySelector('#df-f67f4f4a-cbf8-47b5-bf6d-d20d2852fdad button.colab-df-convert');\n",
              "        buttonEl.style.display =\n",
              "          google.colab.kernel.accessAllowed ? 'block' : 'none';\n",
              "\n",
              "        async function convertToInteractive(key) {\n",
              "          const element = document.querySelector('#df-f67f4f4a-cbf8-47b5-bf6d-d20d2852fdad');\n",
              "          const dataTable =\n",
              "            await google.colab.kernel.invokeFunction('convertToInteractive',\n",
              "                                                     [key], {});\n",
              "          if (!dataTable) return;\n",
              "\n",
              "          const docLinkHtml = 'Like what you see? Visit the ' +\n",
              "            '<a target=\"_blank\" href=https://colab.research.google.com/notebooks/data_table.ipynb>data table notebook</a>'\n",
              "            + ' to learn more about interactive tables.';\n",
              "          element.innerHTML = '';\n",
              "          dataTable['output_type'] = 'display_data';\n",
              "          await google.colab.output.renderOutput(dataTable, element);\n",
              "          const docLink = document.createElement('div');\n",
              "          docLink.innerHTML = docLinkHtml;\n",
              "          element.appendChild(docLink);\n",
              "        }\n",
              "      </script>\n",
              "    </div>\n",
              "  </div>\n",
              "  "
            ]
          },
          "metadata": {},
          "execution_count": 6
        }
      ]
    },
    {
      "cell_type": "code",
      "source": [
        "df.nunique()"
      ],
      "metadata": {
        "colab": {
          "base_uri": "https://localhost:8080/"
        },
        "id": "LCUC1rBFDWZy",
        "outputId": "bc179682-2bff-4f98-cc3b-3416a7297e63"
      },
      "execution_count": 7,
      "outputs": [
        {
          "output_type": "execute_result",
          "data": {
            "text/plain": [
              "no                            16615\n",
              "Row_Num                       16615\n",
              "Customer_ID                   12975\n",
              "Product                           4\n",
              "First_Transaction             16552\n",
              "Last_Transaction              16549\n",
              "Average_Transaction_Amount    16492\n",
              "Count_Transaction               302\n",
              "dtype: int64"
            ]
          },
          "metadata": {},
          "execution_count": 7
        }
      ]
    },
    {
      "cell_type": "markdown",
      "source": [
        "## Data Preparation"
      ],
      "metadata": {
        "id": "b-bH9KwLEoVl"
      }
    },
    {
      "cell_type": "code",
      "source": [
        "df.isnull().sum()"
      ],
      "metadata": {
        "colab": {
          "base_uri": "https://localhost:8080/"
        },
        "id": "mmC9kDjpW96Q",
        "outputId": "0c492d8e-806f-4f24-d663-671d91b4f2e1"
      },
      "execution_count": 8,
      "outputs": [
        {
          "output_type": "execute_result",
          "data": {
            "text/plain": [
              "no                            0\n",
              "Row_Num                       0\n",
              "Customer_ID                   0\n",
              "Product                       0\n",
              "First_Transaction             0\n",
              "Last_Transaction              1\n",
              "Average_Transaction_Amount    1\n",
              "Count_Transaction             1\n",
              "dtype: int64"
            ]
          },
          "metadata": {},
          "execution_count": 8
        }
      ]
    },
    {
      "cell_type": "code",
      "source": [
        "df.dropna( how='any', inplace=True)"
      ],
      "metadata": {
        "id": "XCbYzLSzPQLz"
      },
      "execution_count": 9,
      "outputs": []
    },
    {
      "cell_type": "code",
      "source": [
        "df.isnull().sum()"
      ],
      "metadata": {
        "colab": {
          "base_uri": "https://localhost:8080/"
        },
        "id": "iNLm2eD7Qdw-",
        "outputId": "be28dc68-723a-46a3-e452-35a6976c02cd"
      },
      "execution_count": 10,
      "outputs": [
        {
          "output_type": "execute_result",
          "data": {
            "text/plain": [
              "no                            0\n",
              "Row_Num                       0\n",
              "Customer_ID                   0\n",
              "Product                       0\n",
              "First_Transaction             0\n",
              "Last_Transaction              0\n",
              "Average_Transaction_Amount    0\n",
              "Count_Transaction             0\n",
              "dtype: int64"
            ]
          },
          "metadata": {},
          "execution_count": 10
        }
      ]
    },
    {
      "cell_type": "code",
      "source": [
        "df.drop(['no','Row_Num'], axis=1, inplace=True)\n",
        "df.head()"
      ],
      "metadata": {
        "id": "Q69eYInweqZG",
        "colab": {
          "base_uri": "https://localhost:8080/",
          "height": 206
        },
        "outputId": "1d4d6e9d-ab9d-44f0-df9b-63d1e8982ec3"
      },
      "execution_count": 11,
      "outputs": [
        {
          "output_type": "execute_result",
          "data": {
            "text/plain": [
              "   Customer_ID Product  First_Transaction  Last_Transaction  \\\n",
              "0        29531   Jaket      1466304274396      1.538718e+12   \n",
              "1        29531  Sepatu      1406077331494      1.545736e+12   \n",
              "2       141526     Tas      1493349147000      1.548323e+12   \n",
              "3       141526   Jaket      1493362372547      1.547644e+12   \n",
              "4        37545  Sepatu      1429178498531      1.542891e+12   \n",
              "\n",
              "   Average_Transaction_Amount  Count_Transaction  \n",
              "0                   1467681.0               22.0  \n",
              "1                   1269337.0               41.0  \n",
              "2                    310915.0               30.0  \n",
              "3                    722632.0               27.0  \n",
              "4                   1775036.0               25.0  "
            ],
            "text/html": [
              "\n",
              "  <div id=\"df-2e284a25-b2be-40f1-accb-e171a2935dff\">\n",
              "    <div class=\"colab-df-container\">\n",
              "      <div>\n",
              "<style scoped>\n",
              "    .dataframe tbody tr th:only-of-type {\n",
              "        vertical-align: middle;\n",
              "    }\n",
              "\n",
              "    .dataframe tbody tr th {\n",
              "        vertical-align: top;\n",
              "    }\n",
              "\n",
              "    .dataframe thead th {\n",
              "        text-align: right;\n",
              "    }\n",
              "</style>\n",
              "<table border=\"1\" class=\"dataframe\">\n",
              "  <thead>\n",
              "    <tr style=\"text-align: right;\">\n",
              "      <th></th>\n",
              "      <th>Customer_ID</th>\n",
              "      <th>Product</th>\n",
              "      <th>First_Transaction</th>\n",
              "      <th>Last_Transaction</th>\n",
              "      <th>Average_Transaction_Amount</th>\n",
              "      <th>Count_Transaction</th>\n",
              "    </tr>\n",
              "  </thead>\n",
              "  <tbody>\n",
              "    <tr>\n",
              "      <th>0</th>\n",
              "      <td>29531</td>\n",
              "      <td>Jaket</td>\n",
              "      <td>1466304274396</td>\n",
              "      <td>1.538718e+12</td>\n",
              "      <td>1467681.0</td>\n",
              "      <td>22.0</td>\n",
              "    </tr>\n",
              "    <tr>\n",
              "      <th>1</th>\n",
              "      <td>29531</td>\n",
              "      <td>Sepatu</td>\n",
              "      <td>1406077331494</td>\n",
              "      <td>1.545736e+12</td>\n",
              "      <td>1269337.0</td>\n",
              "      <td>41.0</td>\n",
              "    </tr>\n",
              "    <tr>\n",
              "      <th>2</th>\n",
              "      <td>141526</td>\n",
              "      <td>Tas</td>\n",
              "      <td>1493349147000</td>\n",
              "      <td>1.548323e+12</td>\n",
              "      <td>310915.0</td>\n",
              "      <td>30.0</td>\n",
              "    </tr>\n",
              "    <tr>\n",
              "      <th>3</th>\n",
              "      <td>141526</td>\n",
              "      <td>Jaket</td>\n",
              "      <td>1493362372547</td>\n",
              "      <td>1.547644e+12</td>\n",
              "      <td>722632.0</td>\n",
              "      <td>27.0</td>\n",
              "    </tr>\n",
              "    <tr>\n",
              "      <th>4</th>\n",
              "      <td>37545</td>\n",
              "      <td>Sepatu</td>\n",
              "      <td>1429178498531</td>\n",
              "      <td>1.542891e+12</td>\n",
              "      <td>1775036.0</td>\n",
              "      <td>25.0</td>\n",
              "    </tr>\n",
              "  </tbody>\n",
              "</table>\n",
              "</div>\n",
              "      <button class=\"colab-df-convert\" onclick=\"convertToInteractive('df-2e284a25-b2be-40f1-accb-e171a2935dff')\"\n",
              "              title=\"Convert this dataframe to an interactive table.\"\n",
              "              style=\"display:none;\">\n",
              "        \n",
              "  <svg xmlns=\"http://www.w3.org/2000/svg\" height=\"24px\"viewBox=\"0 0 24 24\"\n",
              "       width=\"24px\">\n",
              "    <path d=\"M0 0h24v24H0V0z\" fill=\"none\"/>\n",
              "    <path d=\"M18.56 5.44l.94 2.06.94-2.06 2.06-.94-2.06-.94-.94-2.06-.94 2.06-2.06.94zm-11 1L8.5 8.5l.94-2.06 2.06-.94-2.06-.94L8.5 2.5l-.94 2.06-2.06.94zm10 10l.94 2.06.94-2.06 2.06-.94-2.06-.94-.94-2.06-.94 2.06-2.06.94z\"/><path d=\"M17.41 7.96l-1.37-1.37c-.4-.4-.92-.59-1.43-.59-.52 0-1.04.2-1.43.59L10.3 9.45l-7.72 7.72c-.78.78-.78 2.05 0 2.83L4 21.41c.39.39.9.59 1.41.59.51 0 1.02-.2 1.41-.59l7.78-7.78 2.81-2.81c.8-.78.8-2.07 0-2.86zM5.41 20L4 18.59l7.72-7.72 1.47 1.35L5.41 20z\"/>\n",
              "  </svg>\n",
              "      </button>\n",
              "      \n",
              "  <style>\n",
              "    .colab-df-container {\n",
              "      display:flex;\n",
              "      flex-wrap:wrap;\n",
              "      gap: 12px;\n",
              "    }\n",
              "\n",
              "    .colab-df-convert {\n",
              "      background-color: #E8F0FE;\n",
              "      border: none;\n",
              "      border-radius: 50%;\n",
              "      cursor: pointer;\n",
              "      display: none;\n",
              "      fill: #1967D2;\n",
              "      height: 32px;\n",
              "      padding: 0 0 0 0;\n",
              "      width: 32px;\n",
              "    }\n",
              "\n",
              "    .colab-df-convert:hover {\n",
              "      background-color: #E2EBFA;\n",
              "      box-shadow: 0px 1px 2px rgba(60, 64, 67, 0.3), 0px 1px 3px 1px rgba(60, 64, 67, 0.15);\n",
              "      fill: #174EA6;\n",
              "    }\n",
              "\n",
              "    [theme=dark] .colab-df-convert {\n",
              "      background-color: #3B4455;\n",
              "      fill: #D2E3FC;\n",
              "    }\n",
              "\n",
              "    [theme=dark] .colab-df-convert:hover {\n",
              "      background-color: #434B5C;\n",
              "      box-shadow: 0px 1px 3px 1px rgba(0, 0, 0, 0.15);\n",
              "      filter: drop-shadow(0px 1px 2px rgba(0, 0, 0, 0.3));\n",
              "      fill: #FFFFFF;\n",
              "    }\n",
              "  </style>\n",
              "\n",
              "      <script>\n",
              "        const buttonEl =\n",
              "          document.querySelector('#df-2e284a25-b2be-40f1-accb-e171a2935dff button.colab-df-convert');\n",
              "        buttonEl.style.display =\n",
              "          google.colab.kernel.accessAllowed ? 'block' : 'none';\n",
              "\n",
              "        async function convertToInteractive(key) {\n",
              "          const element = document.querySelector('#df-2e284a25-b2be-40f1-accb-e171a2935dff');\n",
              "          const dataTable =\n",
              "            await google.colab.kernel.invokeFunction('convertToInteractive',\n",
              "                                                     [key], {});\n",
              "          if (!dataTable) return;\n",
              "\n",
              "          const docLinkHtml = 'Like what you see? Visit the ' +\n",
              "            '<a target=\"_blank\" href=https://colab.research.google.com/notebooks/data_table.ipynb>data table notebook</a>'\n",
              "            + ' to learn more about interactive tables.';\n",
              "          element.innerHTML = '';\n",
              "          dataTable['output_type'] = 'display_data';\n",
              "          await google.colab.output.renderOutput(dataTable, element);\n",
              "          const docLink = document.createElement('div');\n",
              "          docLink.innerHTML = docLinkHtml;\n",
              "          element.appendChild(docLink);\n",
              "        }\n",
              "      </script>\n",
              "    </div>\n",
              "  </div>\n",
              "  "
            ]
          },
          "metadata": {},
          "execution_count": 11
        }
      ]
    },
    {
      "cell_type": "code",
      "source": [
        "df['First_Transaction'] = pd.to_datetime(df['First_Transaction'], unit='ms')\n",
        "df['Last_Transaction'] = pd.to_datetime(df['Last_Transaction'], unit='ms')\n",
        "df.dtypes"
      ],
      "metadata": {
        "id": "_tPZI8cYjJId",
        "colab": {
          "base_uri": "https://localhost:8080/"
        },
        "outputId": "622274bd-b103-4a18-da13-83163a658442"
      },
      "execution_count": 12,
      "outputs": [
        {
          "output_type": "execute_result",
          "data": {
            "text/plain": [
              "Customer_ID                            int64\n",
              "Product                               object\n",
              "First_Transaction             datetime64[ns]\n",
              "Last_Transaction              datetime64[ns]\n",
              "Average_Transaction_Amount           float64\n",
              "Count_Transaction                    float64\n",
              "dtype: object"
            ]
          },
          "metadata": {},
          "execution_count": 12
        }
      ]
    },
    {
      "cell_type": "code",
      "source": [
        "df.head()"
      ],
      "metadata": {
        "colab": {
          "base_uri": "https://localhost:8080/",
          "height": 206
        },
        "id": "twV5iBOCNskS",
        "outputId": "332e1ae5-f582-4220-aa93-20d425837437"
      },
      "execution_count": 13,
      "outputs": [
        {
          "output_type": "execute_result",
          "data": {
            "text/plain": [
              "   Customer_ID Product       First_Transaction              Last_Transaction  \\\n",
              "0        29531   Jaket 2016-06-19 02:44:34.396 2018-10-05 05:48:02.608000000   \n",
              "1        29531  Sepatu 2014-07-23 01:02:11.494 2018-12-25 11:02:41.270000128   \n",
              "2       141526     Tas 2017-04-28 03:12:27.000 2019-01-24 09:40:02.000000000   \n",
              "3       141526   Jaket 2017-04-28 06:52:52.547 2019-01-16 13:00:03.911000064   \n",
              "4        37545  Sepatu 2015-04-16 10:01:38.531 2018-11-22 12:53:41.529999872   \n",
              "\n",
              "   Average_Transaction_Amount  Count_Transaction  \n",
              "0                   1467681.0               22.0  \n",
              "1                   1269337.0               41.0  \n",
              "2                    310915.0               30.0  \n",
              "3                    722632.0               27.0  \n",
              "4                   1775036.0               25.0  "
            ],
            "text/html": [
              "\n",
              "  <div id=\"df-60343a40-2683-44dc-828c-8c3f4743fc0d\">\n",
              "    <div class=\"colab-df-container\">\n",
              "      <div>\n",
              "<style scoped>\n",
              "    .dataframe tbody tr th:only-of-type {\n",
              "        vertical-align: middle;\n",
              "    }\n",
              "\n",
              "    .dataframe tbody tr th {\n",
              "        vertical-align: top;\n",
              "    }\n",
              "\n",
              "    .dataframe thead th {\n",
              "        text-align: right;\n",
              "    }\n",
              "</style>\n",
              "<table border=\"1\" class=\"dataframe\">\n",
              "  <thead>\n",
              "    <tr style=\"text-align: right;\">\n",
              "      <th></th>\n",
              "      <th>Customer_ID</th>\n",
              "      <th>Product</th>\n",
              "      <th>First_Transaction</th>\n",
              "      <th>Last_Transaction</th>\n",
              "      <th>Average_Transaction_Amount</th>\n",
              "      <th>Count_Transaction</th>\n",
              "    </tr>\n",
              "  </thead>\n",
              "  <tbody>\n",
              "    <tr>\n",
              "      <th>0</th>\n",
              "      <td>29531</td>\n",
              "      <td>Jaket</td>\n",
              "      <td>2016-06-19 02:44:34.396</td>\n",
              "      <td>2018-10-05 05:48:02.608000000</td>\n",
              "      <td>1467681.0</td>\n",
              "      <td>22.0</td>\n",
              "    </tr>\n",
              "    <tr>\n",
              "      <th>1</th>\n",
              "      <td>29531</td>\n",
              "      <td>Sepatu</td>\n",
              "      <td>2014-07-23 01:02:11.494</td>\n",
              "      <td>2018-12-25 11:02:41.270000128</td>\n",
              "      <td>1269337.0</td>\n",
              "      <td>41.0</td>\n",
              "    </tr>\n",
              "    <tr>\n",
              "      <th>2</th>\n",
              "      <td>141526</td>\n",
              "      <td>Tas</td>\n",
              "      <td>2017-04-28 03:12:27.000</td>\n",
              "      <td>2019-01-24 09:40:02.000000000</td>\n",
              "      <td>310915.0</td>\n",
              "      <td>30.0</td>\n",
              "    </tr>\n",
              "    <tr>\n",
              "      <th>3</th>\n",
              "      <td>141526</td>\n",
              "      <td>Jaket</td>\n",
              "      <td>2017-04-28 06:52:52.547</td>\n",
              "      <td>2019-01-16 13:00:03.911000064</td>\n",
              "      <td>722632.0</td>\n",
              "      <td>27.0</td>\n",
              "    </tr>\n",
              "    <tr>\n",
              "      <th>4</th>\n",
              "      <td>37545</td>\n",
              "      <td>Sepatu</td>\n",
              "      <td>2015-04-16 10:01:38.531</td>\n",
              "      <td>2018-11-22 12:53:41.529999872</td>\n",
              "      <td>1775036.0</td>\n",
              "      <td>25.0</td>\n",
              "    </tr>\n",
              "  </tbody>\n",
              "</table>\n",
              "</div>\n",
              "      <button class=\"colab-df-convert\" onclick=\"convertToInteractive('df-60343a40-2683-44dc-828c-8c3f4743fc0d')\"\n",
              "              title=\"Convert this dataframe to an interactive table.\"\n",
              "              style=\"display:none;\">\n",
              "        \n",
              "  <svg xmlns=\"http://www.w3.org/2000/svg\" height=\"24px\"viewBox=\"0 0 24 24\"\n",
              "       width=\"24px\">\n",
              "    <path d=\"M0 0h24v24H0V0z\" fill=\"none\"/>\n",
              "    <path d=\"M18.56 5.44l.94 2.06.94-2.06 2.06-.94-2.06-.94-.94-2.06-.94 2.06-2.06.94zm-11 1L8.5 8.5l.94-2.06 2.06-.94-2.06-.94L8.5 2.5l-.94 2.06-2.06.94zm10 10l.94 2.06.94-2.06 2.06-.94-2.06-.94-.94-2.06-.94 2.06-2.06.94z\"/><path d=\"M17.41 7.96l-1.37-1.37c-.4-.4-.92-.59-1.43-.59-.52 0-1.04.2-1.43.59L10.3 9.45l-7.72 7.72c-.78.78-.78 2.05 0 2.83L4 21.41c.39.39.9.59 1.41.59.51 0 1.02-.2 1.41-.59l7.78-7.78 2.81-2.81c.8-.78.8-2.07 0-2.86zM5.41 20L4 18.59l7.72-7.72 1.47 1.35L5.41 20z\"/>\n",
              "  </svg>\n",
              "      </button>\n",
              "      \n",
              "  <style>\n",
              "    .colab-df-container {\n",
              "      display:flex;\n",
              "      flex-wrap:wrap;\n",
              "      gap: 12px;\n",
              "    }\n",
              "\n",
              "    .colab-df-convert {\n",
              "      background-color: #E8F0FE;\n",
              "      border: none;\n",
              "      border-radius: 50%;\n",
              "      cursor: pointer;\n",
              "      display: none;\n",
              "      fill: #1967D2;\n",
              "      height: 32px;\n",
              "      padding: 0 0 0 0;\n",
              "      width: 32px;\n",
              "    }\n",
              "\n",
              "    .colab-df-convert:hover {\n",
              "      background-color: #E2EBFA;\n",
              "      box-shadow: 0px 1px 2px rgba(60, 64, 67, 0.3), 0px 1px 3px 1px rgba(60, 64, 67, 0.15);\n",
              "      fill: #174EA6;\n",
              "    }\n",
              "\n",
              "    [theme=dark] .colab-df-convert {\n",
              "      background-color: #3B4455;\n",
              "      fill: #D2E3FC;\n",
              "    }\n",
              "\n",
              "    [theme=dark] .colab-df-convert:hover {\n",
              "      background-color: #434B5C;\n",
              "      box-shadow: 0px 1px 3px 1px rgba(0, 0, 0, 0.15);\n",
              "      filter: drop-shadow(0px 1px 2px rgba(0, 0, 0, 0.3));\n",
              "      fill: #FFFFFF;\n",
              "    }\n",
              "  </style>\n",
              "\n",
              "      <script>\n",
              "        const buttonEl =\n",
              "          document.querySelector('#df-60343a40-2683-44dc-828c-8c3f4743fc0d button.colab-df-convert');\n",
              "        buttonEl.style.display =\n",
              "          google.colab.kernel.accessAllowed ? 'block' : 'none';\n",
              "\n",
              "        async function convertToInteractive(key) {\n",
              "          const element = document.querySelector('#df-60343a40-2683-44dc-828c-8c3f4743fc0d');\n",
              "          const dataTable =\n",
              "            await google.colab.kernel.invokeFunction('convertToInteractive',\n",
              "                                                     [key], {});\n",
              "          if (!dataTable) return;\n",
              "\n",
              "          const docLinkHtml = 'Like what you see? Visit the ' +\n",
              "            '<a target=\"_blank\" href=https://colab.research.google.com/notebooks/data_table.ipynb>data table notebook</a>'\n",
              "            + ' to learn more about interactive tables.';\n",
              "          element.innerHTML = '';\n",
              "          dataTable['output_type'] = 'display_data';\n",
              "          await google.colab.output.renderOutput(dataTable, element);\n",
              "          const docLink = document.createElement('div');\n",
              "          docLink.innerHTML = docLinkHtml;\n",
              "          element.appendChild(docLink);\n",
              "        }\n",
              "      </script>\n",
              "    </div>\n",
              "  </div>\n",
              "  "
            ]
          },
          "metadata": {},
          "execution_count": 13
        }
      ]
    },
    {
      "cell_type": "code",
      "source": [
        "df['First_TransactionByYear'] = df['First_Transaction'].dt.year\n",
        "df['Last_TransactionByYear'] = df['Last_Transaction'].dt.year\n",
        "df.head()"
      ],
      "metadata": {
        "colab": {
          "base_uri": "https://localhost:8080/",
          "height": 337
        },
        "id": "lge3-mOnH5OX",
        "outputId": "1cee7882-42d0-480a-9b25-655f19775f7d"
      },
      "execution_count": 14,
      "outputs": [
        {
          "output_type": "execute_result",
          "data": {
            "text/plain": [
              "   Customer_ID Product       First_Transaction              Last_Transaction  \\\n",
              "0        29531   Jaket 2016-06-19 02:44:34.396 2018-10-05 05:48:02.608000000   \n",
              "1        29531  Sepatu 2014-07-23 01:02:11.494 2018-12-25 11:02:41.270000128   \n",
              "2       141526     Tas 2017-04-28 03:12:27.000 2019-01-24 09:40:02.000000000   \n",
              "3       141526   Jaket 2017-04-28 06:52:52.547 2019-01-16 13:00:03.911000064   \n",
              "4        37545  Sepatu 2015-04-16 10:01:38.531 2018-11-22 12:53:41.529999872   \n",
              "\n",
              "   Average_Transaction_Amount  Count_Transaction  First_TransactionByYear  \\\n",
              "0                   1467681.0               22.0                     2016   \n",
              "1                   1269337.0               41.0                     2014   \n",
              "2                    310915.0               30.0                     2017   \n",
              "3                    722632.0               27.0                     2017   \n",
              "4                   1775036.0               25.0                     2015   \n",
              "\n",
              "   Last_TransactionByYear  \n",
              "0                    2018  \n",
              "1                    2018  \n",
              "2                    2019  \n",
              "3                    2019  \n",
              "4                    2018  "
            ],
            "text/html": [
              "\n",
              "  <div id=\"df-33dac39d-8483-483f-b61e-ac472d1a2ce5\">\n",
              "    <div class=\"colab-df-container\">\n",
              "      <div>\n",
              "<style scoped>\n",
              "    .dataframe tbody tr th:only-of-type {\n",
              "        vertical-align: middle;\n",
              "    }\n",
              "\n",
              "    .dataframe tbody tr th {\n",
              "        vertical-align: top;\n",
              "    }\n",
              "\n",
              "    .dataframe thead th {\n",
              "        text-align: right;\n",
              "    }\n",
              "</style>\n",
              "<table border=\"1\" class=\"dataframe\">\n",
              "  <thead>\n",
              "    <tr style=\"text-align: right;\">\n",
              "      <th></th>\n",
              "      <th>Customer_ID</th>\n",
              "      <th>Product</th>\n",
              "      <th>First_Transaction</th>\n",
              "      <th>Last_Transaction</th>\n",
              "      <th>Average_Transaction_Amount</th>\n",
              "      <th>Count_Transaction</th>\n",
              "      <th>First_TransactionByYear</th>\n",
              "      <th>Last_TransactionByYear</th>\n",
              "    </tr>\n",
              "  </thead>\n",
              "  <tbody>\n",
              "    <tr>\n",
              "      <th>0</th>\n",
              "      <td>29531</td>\n",
              "      <td>Jaket</td>\n",
              "      <td>2016-06-19 02:44:34.396</td>\n",
              "      <td>2018-10-05 05:48:02.608000000</td>\n",
              "      <td>1467681.0</td>\n",
              "      <td>22.0</td>\n",
              "      <td>2016</td>\n",
              "      <td>2018</td>\n",
              "    </tr>\n",
              "    <tr>\n",
              "      <th>1</th>\n",
              "      <td>29531</td>\n",
              "      <td>Sepatu</td>\n",
              "      <td>2014-07-23 01:02:11.494</td>\n",
              "      <td>2018-12-25 11:02:41.270000128</td>\n",
              "      <td>1269337.0</td>\n",
              "      <td>41.0</td>\n",
              "      <td>2014</td>\n",
              "      <td>2018</td>\n",
              "    </tr>\n",
              "    <tr>\n",
              "      <th>2</th>\n",
              "      <td>141526</td>\n",
              "      <td>Tas</td>\n",
              "      <td>2017-04-28 03:12:27.000</td>\n",
              "      <td>2019-01-24 09:40:02.000000000</td>\n",
              "      <td>310915.0</td>\n",
              "      <td>30.0</td>\n",
              "      <td>2017</td>\n",
              "      <td>2019</td>\n",
              "    </tr>\n",
              "    <tr>\n",
              "      <th>3</th>\n",
              "      <td>141526</td>\n",
              "      <td>Jaket</td>\n",
              "      <td>2017-04-28 06:52:52.547</td>\n",
              "      <td>2019-01-16 13:00:03.911000064</td>\n",
              "      <td>722632.0</td>\n",
              "      <td>27.0</td>\n",
              "      <td>2017</td>\n",
              "      <td>2019</td>\n",
              "    </tr>\n",
              "    <tr>\n",
              "      <th>4</th>\n",
              "      <td>37545</td>\n",
              "      <td>Sepatu</td>\n",
              "      <td>2015-04-16 10:01:38.531</td>\n",
              "      <td>2018-11-22 12:53:41.529999872</td>\n",
              "      <td>1775036.0</td>\n",
              "      <td>25.0</td>\n",
              "      <td>2015</td>\n",
              "      <td>2018</td>\n",
              "    </tr>\n",
              "  </tbody>\n",
              "</table>\n",
              "</div>\n",
              "      <button class=\"colab-df-convert\" onclick=\"convertToInteractive('df-33dac39d-8483-483f-b61e-ac472d1a2ce5')\"\n",
              "              title=\"Convert this dataframe to an interactive table.\"\n",
              "              style=\"display:none;\">\n",
              "        \n",
              "  <svg xmlns=\"http://www.w3.org/2000/svg\" height=\"24px\"viewBox=\"0 0 24 24\"\n",
              "       width=\"24px\">\n",
              "    <path d=\"M0 0h24v24H0V0z\" fill=\"none\"/>\n",
              "    <path d=\"M18.56 5.44l.94 2.06.94-2.06 2.06-.94-2.06-.94-.94-2.06-.94 2.06-2.06.94zm-11 1L8.5 8.5l.94-2.06 2.06-.94-2.06-.94L8.5 2.5l-.94 2.06-2.06.94zm10 10l.94 2.06.94-2.06 2.06-.94-2.06-.94-.94-2.06-.94 2.06-2.06.94z\"/><path d=\"M17.41 7.96l-1.37-1.37c-.4-.4-.92-.59-1.43-.59-.52 0-1.04.2-1.43.59L10.3 9.45l-7.72 7.72c-.78.78-.78 2.05 0 2.83L4 21.41c.39.39.9.59 1.41.59.51 0 1.02-.2 1.41-.59l7.78-7.78 2.81-2.81c.8-.78.8-2.07 0-2.86zM5.41 20L4 18.59l7.72-7.72 1.47 1.35L5.41 20z\"/>\n",
              "  </svg>\n",
              "      </button>\n",
              "      \n",
              "  <style>\n",
              "    .colab-df-container {\n",
              "      display:flex;\n",
              "      flex-wrap:wrap;\n",
              "      gap: 12px;\n",
              "    }\n",
              "\n",
              "    .colab-df-convert {\n",
              "      background-color: #E8F0FE;\n",
              "      border: none;\n",
              "      border-radius: 50%;\n",
              "      cursor: pointer;\n",
              "      display: none;\n",
              "      fill: #1967D2;\n",
              "      height: 32px;\n",
              "      padding: 0 0 0 0;\n",
              "      width: 32px;\n",
              "    }\n",
              "\n",
              "    .colab-df-convert:hover {\n",
              "      background-color: #E2EBFA;\n",
              "      box-shadow: 0px 1px 2px rgba(60, 64, 67, 0.3), 0px 1px 3px 1px rgba(60, 64, 67, 0.15);\n",
              "      fill: #174EA6;\n",
              "    }\n",
              "\n",
              "    [theme=dark] .colab-df-convert {\n",
              "      background-color: #3B4455;\n",
              "      fill: #D2E3FC;\n",
              "    }\n",
              "\n",
              "    [theme=dark] .colab-df-convert:hover {\n",
              "      background-color: #434B5C;\n",
              "      box-shadow: 0px 1px 3px 1px rgba(0, 0, 0, 0.15);\n",
              "      filter: drop-shadow(0px 1px 2px rgba(0, 0, 0, 0.3));\n",
              "      fill: #FFFFFF;\n",
              "    }\n",
              "  </style>\n",
              "\n",
              "      <script>\n",
              "        const buttonEl =\n",
              "          document.querySelector('#df-33dac39d-8483-483f-b61e-ac472d1a2ce5 button.colab-df-convert');\n",
              "        buttonEl.style.display =\n",
              "          google.colab.kernel.accessAllowed ? 'block' : 'none';\n",
              "\n",
              "        async function convertToInteractive(key) {\n",
              "          const element = document.querySelector('#df-33dac39d-8483-483f-b61e-ac472d1a2ce5');\n",
              "          const dataTable =\n",
              "            await google.colab.kernel.invokeFunction('convertToInteractive',\n",
              "                                                     [key], {});\n",
              "          if (!dataTable) return;\n",
              "\n",
              "          const docLinkHtml = 'Like what you see? Visit the ' +\n",
              "            '<a target=\"_blank\" href=https://colab.research.google.com/notebooks/data_table.ipynb>data table notebook</a>'\n",
              "            + ' to learn more about interactive tables.';\n",
              "          element.innerHTML = '';\n",
              "          dataTable['output_type'] = 'display_data';\n",
              "          await google.colab.output.renderOutput(dataTable, element);\n",
              "          const docLink = document.createElement('div');\n",
              "          docLink.innerHTML = docLinkHtml;\n",
              "          element.appendChild(docLink);\n",
              "        }\n",
              "      </script>\n",
              "    </div>\n",
              "  </div>\n",
              "  "
            ]
          },
          "metadata": {},
          "execution_count": 14
        }
      ]
    },
    {
      "cell_type": "code",
      "source": [
        "df.loc[df['Last_Transaction'] <= dt.datetime(2018,8,1,0,0,0), 'Churn']=1\n",
        "df.loc[df['Last_Transaction'] > dt.datetime(2018,8,1,0,0,0), 'Churn']=0\n",
        "df.head()"
      ],
      "metadata": {
        "colab": {
          "base_uri": "https://localhost:8080/",
          "height": 357
        },
        "id": "MDMpdJk_F-CC",
        "outputId": "7782ba29-4c9b-48b7-ab4a-a36e5026c8e3"
      },
      "execution_count": 15,
      "outputs": [
        {
          "output_type": "execute_result",
          "data": {
            "text/plain": [
              "   Customer_ID Product       First_Transaction              Last_Transaction  \\\n",
              "0        29531   Jaket 2016-06-19 02:44:34.396 2018-10-05 05:48:02.608000000   \n",
              "1        29531  Sepatu 2014-07-23 01:02:11.494 2018-12-25 11:02:41.270000128   \n",
              "2       141526     Tas 2017-04-28 03:12:27.000 2019-01-24 09:40:02.000000000   \n",
              "3       141526   Jaket 2017-04-28 06:52:52.547 2019-01-16 13:00:03.911000064   \n",
              "4        37545  Sepatu 2015-04-16 10:01:38.531 2018-11-22 12:53:41.529999872   \n",
              "\n",
              "   Average_Transaction_Amount  Count_Transaction  First_TransactionByYear  \\\n",
              "0                   1467681.0               22.0                     2016   \n",
              "1                   1269337.0               41.0                     2014   \n",
              "2                    310915.0               30.0                     2017   \n",
              "3                    722632.0               27.0                     2017   \n",
              "4                   1775036.0               25.0                     2015   \n",
              "\n",
              "   Last_TransactionByYear  Churn  \n",
              "0                    2018    0.0  \n",
              "1                    2018    0.0  \n",
              "2                    2019    0.0  \n",
              "3                    2019    0.0  \n",
              "4                    2018    0.0  "
            ],
            "text/html": [
              "\n",
              "  <div id=\"df-8b327405-b2e1-494a-9be1-37cae1a7746d\">\n",
              "    <div class=\"colab-df-container\">\n",
              "      <div>\n",
              "<style scoped>\n",
              "    .dataframe tbody tr th:only-of-type {\n",
              "        vertical-align: middle;\n",
              "    }\n",
              "\n",
              "    .dataframe tbody tr th {\n",
              "        vertical-align: top;\n",
              "    }\n",
              "\n",
              "    .dataframe thead th {\n",
              "        text-align: right;\n",
              "    }\n",
              "</style>\n",
              "<table border=\"1\" class=\"dataframe\">\n",
              "  <thead>\n",
              "    <tr style=\"text-align: right;\">\n",
              "      <th></th>\n",
              "      <th>Customer_ID</th>\n",
              "      <th>Product</th>\n",
              "      <th>First_Transaction</th>\n",
              "      <th>Last_Transaction</th>\n",
              "      <th>Average_Transaction_Amount</th>\n",
              "      <th>Count_Transaction</th>\n",
              "      <th>First_TransactionByYear</th>\n",
              "      <th>Last_TransactionByYear</th>\n",
              "      <th>Churn</th>\n",
              "    </tr>\n",
              "  </thead>\n",
              "  <tbody>\n",
              "    <tr>\n",
              "      <th>0</th>\n",
              "      <td>29531</td>\n",
              "      <td>Jaket</td>\n",
              "      <td>2016-06-19 02:44:34.396</td>\n",
              "      <td>2018-10-05 05:48:02.608000000</td>\n",
              "      <td>1467681.0</td>\n",
              "      <td>22.0</td>\n",
              "      <td>2016</td>\n",
              "      <td>2018</td>\n",
              "      <td>0.0</td>\n",
              "    </tr>\n",
              "    <tr>\n",
              "      <th>1</th>\n",
              "      <td>29531</td>\n",
              "      <td>Sepatu</td>\n",
              "      <td>2014-07-23 01:02:11.494</td>\n",
              "      <td>2018-12-25 11:02:41.270000128</td>\n",
              "      <td>1269337.0</td>\n",
              "      <td>41.0</td>\n",
              "      <td>2014</td>\n",
              "      <td>2018</td>\n",
              "      <td>0.0</td>\n",
              "    </tr>\n",
              "    <tr>\n",
              "      <th>2</th>\n",
              "      <td>141526</td>\n",
              "      <td>Tas</td>\n",
              "      <td>2017-04-28 03:12:27.000</td>\n",
              "      <td>2019-01-24 09:40:02.000000000</td>\n",
              "      <td>310915.0</td>\n",
              "      <td>30.0</td>\n",
              "      <td>2017</td>\n",
              "      <td>2019</td>\n",
              "      <td>0.0</td>\n",
              "    </tr>\n",
              "    <tr>\n",
              "      <th>3</th>\n",
              "      <td>141526</td>\n",
              "      <td>Jaket</td>\n",
              "      <td>2017-04-28 06:52:52.547</td>\n",
              "      <td>2019-01-16 13:00:03.911000064</td>\n",
              "      <td>722632.0</td>\n",
              "      <td>27.0</td>\n",
              "      <td>2017</td>\n",
              "      <td>2019</td>\n",
              "      <td>0.0</td>\n",
              "    </tr>\n",
              "    <tr>\n",
              "      <th>4</th>\n",
              "      <td>37545</td>\n",
              "      <td>Sepatu</td>\n",
              "      <td>2015-04-16 10:01:38.531</td>\n",
              "      <td>2018-11-22 12:53:41.529999872</td>\n",
              "      <td>1775036.0</td>\n",
              "      <td>25.0</td>\n",
              "      <td>2015</td>\n",
              "      <td>2018</td>\n",
              "      <td>0.0</td>\n",
              "    </tr>\n",
              "  </tbody>\n",
              "</table>\n",
              "</div>\n",
              "      <button class=\"colab-df-convert\" onclick=\"convertToInteractive('df-8b327405-b2e1-494a-9be1-37cae1a7746d')\"\n",
              "              title=\"Convert this dataframe to an interactive table.\"\n",
              "              style=\"display:none;\">\n",
              "        \n",
              "  <svg xmlns=\"http://www.w3.org/2000/svg\" height=\"24px\"viewBox=\"0 0 24 24\"\n",
              "       width=\"24px\">\n",
              "    <path d=\"M0 0h24v24H0V0z\" fill=\"none\"/>\n",
              "    <path d=\"M18.56 5.44l.94 2.06.94-2.06 2.06-.94-2.06-.94-.94-2.06-.94 2.06-2.06.94zm-11 1L8.5 8.5l.94-2.06 2.06-.94-2.06-.94L8.5 2.5l-.94 2.06-2.06.94zm10 10l.94 2.06.94-2.06 2.06-.94-2.06-.94-.94-2.06-.94 2.06-2.06.94z\"/><path d=\"M17.41 7.96l-1.37-1.37c-.4-.4-.92-.59-1.43-.59-.52 0-1.04.2-1.43.59L10.3 9.45l-7.72 7.72c-.78.78-.78 2.05 0 2.83L4 21.41c.39.39.9.59 1.41.59.51 0 1.02-.2 1.41-.59l7.78-7.78 2.81-2.81c.8-.78.8-2.07 0-2.86zM5.41 20L4 18.59l7.72-7.72 1.47 1.35L5.41 20z\"/>\n",
              "  </svg>\n",
              "      </button>\n",
              "      \n",
              "  <style>\n",
              "    .colab-df-container {\n",
              "      display:flex;\n",
              "      flex-wrap:wrap;\n",
              "      gap: 12px;\n",
              "    }\n",
              "\n",
              "    .colab-df-convert {\n",
              "      background-color: #E8F0FE;\n",
              "      border: none;\n",
              "      border-radius: 50%;\n",
              "      cursor: pointer;\n",
              "      display: none;\n",
              "      fill: #1967D2;\n",
              "      height: 32px;\n",
              "      padding: 0 0 0 0;\n",
              "      width: 32px;\n",
              "    }\n",
              "\n",
              "    .colab-df-convert:hover {\n",
              "      background-color: #E2EBFA;\n",
              "      box-shadow: 0px 1px 2px rgba(60, 64, 67, 0.3), 0px 1px 3px 1px rgba(60, 64, 67, 0.15);\n",
              "      fill: #174EA6;\n",
              "    }\n",
              "\n",
              "    [theme=dark] .colab-df-convert {\n",
              "      background-color: #3B4455;\n",
              "      fill: #D2E3FC;\n",
              "    }\n",
              "\n",
              "    [theme=dark] .colab-df-convert:hover {\n",
              "      background-color: #434B5C;\n",
              "      box-shadow: 0px 1px 3px 1px rgba(0, 0, 0, 0.15);\n",
              "      filter: drop-shadow(0px 1px 2px rgba(0, 0, 0, 0.3));\n",
              "      fill: #FFFFFF;\n",
              "    }\n",
              "  </style>\n",
              "\n",
              "      <script>\n",
              "        const buttonEl =\n",
              "          document.querySelector('#df-8b327405-b2e1-494a-9be1-37cae1a7746d button.colab-df-convert');\n",
              "        buttonEl.style.display =\n",
              "          google.colab.kernel.accessAllowed ? 'block' : 'none';\n",
              "\n",
              "        async function convertToInteractive(key) {\n",
              "          const element = document.querySelector('#df-8b327405-b2e1-494a-9be1-37cae1a7746d');\n",
              "          const dataTable =\n",
              "            await google.colab.kernel.invokeFunction('convertToInteractive',\n",
              "                                                     [key], {});\n",
              "          if (!dataTable) return;\n",
              "\n",
              "          const docLinkHtml = 'Like what you see? Visit the ' +\n",
              "            '<a target=\"_blank\" href=https://colab.research.google.com/notebooks/data_table.ipynb>data table notebook</a>'\n",
              "            + ' to learn more about interactive tables.';\n",
              "          element.innerHTML = '';\n",
              "          dataTable['output_type'] = 'display_data';\n",
              "          await google.colab.output.renderOutput(dataTable, element);\n",
              "          const docLink = document.createElement('div');\n",
              "          docLink.innerHTML = docLinkHtml;\n",
              "          element.appendChild(docLink);\n",
              "        }\n",
              "      </script>\n",
              "    </div>\n",
              "  </div>\n",
              "  "
            ]
          },
          "metadata": {},
          "execution_count": 15
        }
      ]
    },
    {
      "cell_type": "code",
      "source": [
        "df['Product'] = LabelEncoder().fit_transform(df['Product'])"
      ],
      "metadata": {
        "id": "x4OT09KfKEoz"
      },
      "execution_count": 16,
      "outputs": []
    },
    {
      "cell_type": "markdown",
      "source": [
        "## Exploratory data analysis"
      ],
      "metadata": {
        "id": "ip-ILtbdx12Y"
      }
    },
    {
      "cell_type": "code",
      "source": [
        "df[\"Churn\"].value_counts()"
      ],
      "metadata": {
        "colab": {
          "base_uri": "https://localhost:8080/"
        },
        "id": "X6zTJBx7HElz",
        "outputId": "9b8883a1-b0d3-45c2-b6ce-73ce7d52dc71"
      },
      "execution_count": 17,
      "outputs": [
        {
          "output_type": "execute_result",
          "data": {
            "text/plain": [
              "0.0    12776\n",
              "1.0     3838\n",
              "Name: Churn, dtype: int64"
            ]
          },
          "metadata": {},
          "execution_count": 17
        }
      ]
    },
    {
      "cell_type": "code",
      "source": [
        "df_byyear = df.groupby(['First_TransactionByYear'])['Count_Transaction'].sum()\n",
        "df_byyear.plot(x='First_TransactionByYear', y = 'Count_Transaction', kind='bar')\n",
        "plt.title('jumlah transaksi yang dilakukan tiap tahun')\n",
        "plt.xlabel('Tahun')\n",
        "plt.ylabel('Count_Transaction')\n",
        "plt.show()"
      ],
      "metadata": {
        "colab": {
          "base_uri": "https://localhost:8080/",
          "height": 311
        },
        "id": "78HQHxbfMEVh",
        "outputId": "fcbaa5ed-9098-4c02-bfb9-6f53da3f6590"
      },
      "execution_count": 18,
      "outputs": [
        {
          "output_type": "display_data",
          "data": {
            "text/plain": [
              "<Figure size 432x288 with 1 Axes>"
            ],
            "image/png": "[encoded data removed]"
          },
          "metadata": {
            "needs_background": "light"
          }
        }
      ]
    },
    {
      "cell_type": "code",
      "source": [
        "df_byyear = df.groupby(['First_TransactionByYear'])['Customer_ID'].count()\n",
        "df_byyear.plot(x='First_TransactionByYear', y = 'Customer_ID', kind='bar')\n",
        "plt.title('jumlah customer yang melakukan transaksi tiap tahun')\n",
        "plt.xlabel('Tahun')\n",
        "plt.ylabel('Count_Transaction')\n",
        "plt.show()"
      ],
      "metadata": {
        "colab": {
          "base_uri": "https://localhost:8080/",
          "height": 311
        },
        "id": "A2Ad2CsnQ5sE",
        "outputId": "ea773623-1c00-4eae-b613-d331cf0c15ce"
      },
      "execution_count": 19,
      "outputs": [
        {
          "output_type": "display_data",
          "data": {
            "text/plain": [
              "<Figure size 432x288 with 1 Axes>"
            ],
            "image/png": "[encoded data removed]"
          },
          "metadata": {
            "needs_background": "light"
          }
        }
      ]
    },
    {
      "cell_type": "code",
      "source": [
        "df.drop(['Customer_ID'], axis=1, inplace=True)\n",
        "sns.heatmap(df.corr(),annot=True)"
      ],
      "metadata": {
        "colab": {
          "base_uri": "https://localhost:8080/",
          "height": 424
        },
        "id": "HIuGugeJ-Gww",
        "outputId": "f31afcd8-660f-42db-d308-6f349839df51"
      },
      "execution_count": 20,
      "outputs": [
        {
          "output_type": "execute_result",
          "data": {
            "text/plain": [
              "<matplotlib.axes._subplots.AxesSubplot at 0x7faab1343b20>"
            ]
          },
          "metadata": {},
          "execution_count": 20
        },
        {
          "output_type": "display_data",
          "data": {
            "text/plain": [
              "<Figure size 432x288 with 2 Axes>"
            ],
            "image/png": "[encoded data removed]"
          },
          "metadata": {
            "needs_background": "light"
          }
        }
      ]
    },
    {
      "cell_type": "markdown",
      "source": [
        "# Modeling"
      ],
      "metadata": {
        "id": "L1s9C3q9SgXg"
      }
    },
    {
      "cell_type": "code",
      "source": [
        "df['Range_year'] = df['Last_TransactionByYear']-df['First_TransactionByYear']\n",
        "\n",
        "features=['Average_Transaction_Amount','Count_Transaction','Range_year']\n",
        "X=df[features]\n",
        "y=df['Churn']\n",
        "x_train, x_test, y_train, y_test = train_test_split(X, y, test_size=0.3, random_state=42)\n"
      ],
      "metadata": {
        "id": "E-sTW1ptSjRu"
      },
      "execution_count": 21,
      "outputs": []
    },
    {
      "cell_type": "markdown",
      "source": [
        "DecisionTree"
      ],
      "metadata": {
        "id": "XvkQRJ_0Zeny"
      }
    },
    {
      "cell_type": "code",
      "source": [
        "dec_model = DecisionTreeClassifier().fit(x_train, y_train)\n",
        "\n",
        "y_train_pred = dec_model.predict(x_train)\n",
        "\n",
        "y_test_pred = dec_model.predict(x_test)\n",
        "\n",
        "confusion_matrix_trainig_dt = pd.DataFrame((confusion_matrix(y_train, y_train_pred)), ('No Churn', 'Churn'), ('No Churn', 'Churm'))\n",
        "\n",
        "plt.figure()\n",
        "heatmap = sns.heatmap(confusion_matrix_trainig_dt, annot=True, annot_kws={'size':14}, fmt='d', cmap='YlGnBu')\n",
        "heatmap.yaxis.set_ticklabels(heatmap.yaxis.get_ticklabels(), rotation=0, ha='right', fontsize=14)\n",
        "heatmap.xaxis.set_ticklabels(heatmap.xaxis.get_ticklabels(), rotation=0, ha='right', fontsize=14)\n",
        "\n",
        "plt.title('Confusion Matrix for Training Model\\n(Decision Tree)', fontsize=18, color='darkblue')\n",
        "plt.ylabel('True label', fontsize=14)\n",
        "plt.xlabel('Predicted label', fontsize=14)\n",
        "plt.tight_layout()\n",
        "plt.show()"
      ],
      "metadata": {
        "colab": {
          "base_uri": "https://localhost:8080/",
          "height": 297
        },
        "id": "BEopg6FsYFF3",
        "outputId": "47d647d9-4e1e-41f1-9d5d-f819925c30c2"
      },
      "execution_count": 22,
      "outputs": [
        {
          "output_type": "display_data",
          "data": {
            "text/plain": [
              "<Figure size 432x288 with 2 Axes>"
            ],
            "image/png": "[encoded data removed]"
          },
          "metadata": {
            "needs_background": "light"
          }
        }
      ]
    },
    {
      "cell_type": "code",
      "source": [
        "print('Classification Report Training Model (Decision Tree) :')\n",
        "print(classification_report(y_train, y_train_pred))\n",
        "print(f'Accuracy Training Score Decision Tree : {accuracy_score(y_train, y_train_pred)}')"
      ],
      "metadata": {
        "colab": {
          "base_uri": "https://localhost:8080/"
        },
        "id": "mRHuRu46ZaWk",
        "outputId": "84ebc835-cc4f-4441-8536-45e6fb4e8668"
      },
      "execution_count": 23,
      "outputs": [
        {
          "output_type": "stream",
          "name": "stdout",
          "text": [
            "Classification Report Training Model (Decision Tree) :\n",
            "              precision    recall  f1-score   support\n",
            "\n",
            "         0.0       1.00      1.00      1.00      8937\n",
            "         1.0       1.00      1.00      1.00      2692\n",
            "\n",
            "    accuracy                           1.00     11629\n",
            "   macro avg       1.00      1.00      1.00     11629\n",
            "weighted avg       1.00      1.00      1.00     11629\n",
            "\n",
            "Accuracy Training Score Decision Tree : 1.0\n"
          ]
        }
      ]
    },
    {
      "cell_type": "markdown",
      "source": [
        "test"
      ],
      "metadata": {
        "id": "m55bqSNmZs-I"
      }
    },
    {
      "cell_type": "code",
      "source": [
        "confusion_matrix_test_dt = pd.DataFrame((confusion_matrix(y_test, y_test_pred)), ('NoChurn', 'Churn'), ('NoChurn', 'Churn'))\n",
        "\n",
        "plt.figure()\n",
        "heatmap = sns.heatmap(confusion_matrix_test_dt, annot=True, annot_kws={'size':14}, fmt='d', cmap='YlGnBu')\n",
        "heatmap.yaxis.set_ticklabels(heatmap.yaxis.get_ticklabels(), rotation=0, ha='right', fontsize=14)\n",
        "heatmap.xaxis.set_ticklabels(heatmap.xaxis.get_ticklabels(), rotation=0, ha='right', fontsize=14)\n",
        "\n",
        "plt.title('Confusion Matrix for Testing Model\\n(Decision Tree)', fontsize=18, color='darkblue')\n",
        "plt.ylabel('True label', fontsize=14)\n",
        "plt.xlabel('Predicted label', fontsize=14)\n",
        "plt.tight_layout()\n",
        "plt.show()"
      ],
      "metadata": {
        "colab": {
          "base_uri": "https://localhost:8080/",
          "height": 297
        },
        "id": "JnB4TV7fZsUz",
        "outputId": "caff6bab-54cd-42b0-c253-88c103a1092f"
      },
      "execution_count": 24,
      "outputs": [
        {
          "output_type": "display_data",
          "data": {
            "text/plain": [
              "<Figure size 432x288 with 2 Axes>"
            ],
            "image/png": "[encoded data removed]"
          },
          "metadata": {
            "needs_background": "light"
          }
        }
      ]
    },
    {
      "cell_type": "code",
      "source": [
        "print('Classification Report Testing Model (Decision Tree) :')\n",
        "print(classification_report(y_test, y_test_pred))\n",
        "print(f'Accuracy Test Score Decision Tree : {accuracy_score(y_test, y_test_pred)}')"
      ],
      "metadata": {
        "colab": {
          "base_uri": "https://localhost:8080/"
        },
        "id": "bhQl4SzQaDKW",
        "outputId": "248cf58a-0552-4647-e25d-7abd68cbf613"
      },
      "execution_count": 25,
      "outputs": [
        {
          "output_type": "stream",
          "name": "stdout",
          "text": [
            "Classification Report Testing Model (Decision Tree) :\n",
            "              precision    recall  f1-score   support\n",
            "\n",
            "         0.0       0.79      0.77      0.78      3839\n",
            "         1.0       0.28      0.31      0.29      1146\n",
            "\n",
            "    accuracy                           0.66      4985\n",
            "   macro avg       0.54      0.54      0.54      4985\n",
            "weighted avg       0.67      0.66      0.67      4985\n",
            "\n",
            "Accuracy Test Score Decision Tree : 0.6615847542627884\n"
          ]
        }
      ]
    },
    {
      "cell_type": "markdown",
      "source": [
        "Logistic Regression"
      ],
      "metadata": {
        "id": "e2IWGDwzVOLB"
      }
    },
    {
      "cell_type": "code",
      "source": [
        "log_model = LogisticRegression().fit(x_train, y_train)\n",
        "\n",
        "y_train_pred = log_model.predict(x_train)\n",
        "\n",
        "y_test_pred= log_model.predict(x_test)"
      ],
      "metadata": {
        "id": "Mmql1QzaUQFE"
      },
      "execution_count": 26,
      "outputs": []
    },
    {
      "cell_type": "code",
      "source": [
        "confusion_matrix_training_lr= pd.DataFrame((confusion_matrix(y_train, y_train_pred)), ('NoChurn', 'Churn'), ('NoChurn', 'Churn'))\n",
        "\n",
        "plt.figure()\n",
        "heatmap = sns.heatmap(confusion_matrix_training_lr, annot=True, annot_kws={'size':14}, fmt='d', cmap='YlGnBu')\n",
        "heatmap.yaxis.set_ticklabels(heatmap.yaxis.get_ticklabels(), rotation=0, ha='right', fontsize=14)\n",
        "heatmap.xaxis.set_ticklabels(heatmap.xaxis.get_ticklabels(), rotation=0, ha='right', fontsize=14)\n",
        "\n",
        "plt.title('Confusion Matrix for Training Model\\n(Logistic Regression)', fontsize=18, color='darkblue')\n",
        "plt.ylabel('True label', fontsize=14)\n",
        "plt.xlabel('Predicted label', fontsize=14)\n",
        "plt.tight_layout()\n",
        "plt.show()"
      ],
      "metadata": {
        "colab": {
          "base_uri": "https://localhost:8080/",
          "height": 297
        },
        "id": "ocAZXjbNVByD",
        "outputId": "b5e86a22-2a74-429e-ae9d-563280800741"
      },
      "execution_count": 27,
      "outputs": [
        {
          "output_type": "display_data",
          "data": {
            "text/plain": [
              "<Figure size 432x288 with 2 Axes>"
            ],
            "image/png": "[encoded data removed]"
          },
          "metadata": {
            "needs_background": "light"
          }
        }
      ]
    },
    {
      "cell_type": "code",
      "source": [
        "print('Classification Report Training Model (Logistic Regression) :')\n",
        "print(classification_report(y_train, y_train_pred))\n",
        "print(f'Accuracy Train Score Logistic Regression :{accuracy_score(y_train, y_train_pred)}')"
      ],
      "metadata": {
        "colab": {
          "base_uri": "https://localhost:8080/"
        },
        "id": "M-pleRJMVdn9",
        "outputId": "20c48f01-0976-44e9-dbb1-08fc5adc024f"
      },
      "execution_count": 28,
      "outputs": [
        {
          "output_type": "stream",
          "name": "stdout",
          "text": [
            "Classification Report Training Model (Logistic Regression) :\n",
            "              precision    recall  f1-score   support\n",
            "\n",
            "         0.0       0.77      1.00      0.87      8937\n",
            "         1.0       0.00      0.00      0.00      2692\n",
            "\n",
            "    accuracy                           0.77     11629\n",
            "   macro avg       0.38      0.50      0.43     11629\n",
            "weighted avg       0.59      0.77      0.67     11629\n",
            "\n",
            "Accuracy Train Score Logistic Regression :0.7685097600825522\n"
          ]
        },
        {
          "output_type": "stream",
          "name": "stderr",
          "text": [
            "/usr/local/lib/python3.8/dist-packages/sklearn/metrics/_classification.py:1318: UndefinedMetricWarning: Precision and F-score are ill-defined and being set to 0.0 in labels with no predicted samples. Use `zero_division` parameter to control this behavior.\n",
            "  _warn_prf(average, modifier, msg_start, len(result))\n",
            "/usr/local/lib/python3.8/dist-packages/sklearn/metrics/_classification.py:1318: UndefinedMetricWarning: Precision and F-score are ill-defined and being set to 0.0 in labels with no predicted samples. Use `zero_division` parameter to control this behavior.\n",
            "  _warn_prf(average, modifier, msg_start, len(result))\n",
            "/usr/local/lib/python3.8/dist-packages/sklearn/metrics/_classification.py:1318: UndefinedMetricWarning: Precision and F-score are ill-defined and being set to 0.0 in labels with no predicted samples. Use `zero_division` parameter to control this behavior.\n",
            "  _warn_prf(average, modifier, msg_start, len(result))\n"
          ]
        }
      ]
    },
    {
      "cell_type": "markdown",
      "source": [
        "testing t"
      ],
      "metadata": {
        "id": "IfSTV01lWoaq"
      }
    },
    {
      "cell_type": "code",
      "source": [
        "confusion_matrix_test_lr = pd.DataFrame((confusion_matrix(y_test, y_test_pred)), ('NoChurn', 'Churn'), ('NoChurn', 'Churn'))\n",
        "\n",
        "plt.figure()\n",
        "heatmap = sns.heatmap(confusion_matrix_test_lr, annot=True, annot_kws={'size':14}, fmt='d', cmap='YlGnBu')\n",
        "heatmap.yaxis.set_ticklabels(heatmap.yaxis.get_ticklabels(), rotation=0, ha='right', fontsize=14)\n",
        "heatmap.xaxis.set_ticklabels(heatmap.xaxis.get_ticklabels(), rotation=0, ha='right', fontsize=14)\n",
        "\n",
        "plt.title('Confusion Matrix for Test Model\\n(Logistic Regression)', fontsize=18, color='darkblue')\n",
        "plt.ylabel('True label', fontsize=14)\n",
        "plt.xlabel('Predicted label', fontsize=14)\n",
        "plt.tight_layout()\n",
        "plt.show()"
      ],
      "metadata": {
        "colab": {
          "base_uri": "https://localhost:8080/",
          "height": 297
        },
        "id": "iLltNs5vWgQs",
        "outputId": "bcb917fd-24fc-4146-fea4-db69918d71f8"
      },
      "execution_count": 29,
      "outputs": [
        {
          "output_type": "display_data",
          "data": {
            "text/plain": [
              "<Figure size 432x288 with 2 Axes>"
            ],
            "image/png": "[encoded data removed]"
          },
          "metadata": {
            "needs_background": "light"
          }
        }
      ]
    },
    {
      "cell_type": "code",
      "source": [
        "print('Classification Report Testing Model (Logistic Regression) :')\n",
        "print(classification_report(y_test, y_test_pred))\n",
        "print(f'Accuracy Test Score Logistic Regression : {accuracy_score(y_test, y_test_pred)}')"
      ],
      "metadata": {
        "colab": {
          "base_uri": "https://localhost:8080/"
        },
        "id": "MsQ-GSYEaRpo",
        "outputId": "5bec9838-347b-4056-c7a6-d80264eb8ac2"
      },
      "execution_count": 30,
      "outputs": [
        {
          "output_type": "stream",
          "name": "stdout",
          "text": [
            "Classification Report Testing Model (Logistic Regression) :\n",
            "              precision    recall  f1-score   support\n",
            "\n",
            "         0.0       0.77      1.00      0.87      3839\n",
            "         1.0       0.00      0.00      0.00      1146\n",
            "\n",
            "    accuracy                           0.77      4985\n",
            "   macro avg       0.39      0.50      0.44      4985\n",
            "weighted avg       0.59      0.77      0.67      4985\n",
            "\n",
            "Accuracy Test Score Logistic Regression : 0.770110330992979\n"
          ]
        },
        {
          "output_type": "stream",
          "name": "stderr",
          "text": [
            "/usr/local/lib/python3.8/dist-packages/sklearn/metrics/_classification.py:1318: UndefinedMetricWarning: Precision and F-score are ill-defined and being set to 0.0 in labels with no predicted samples. Use `zero_division` parameter to control this behavior.\n",
            "  _warn_prf(average, modifier, msg_start, len(result))\n",
            "/usr/local/lib/python3.8/dist-packages/sklearn/metrics/_classification.py:1318: UndefinedMetricWarning: Precision and F-score are ill-defined and being set to 0.0 in labels with no predicted samples. Use `zero_division` parameter to control this behavior.\n",
            "  _warn_prf(average, modifier, msg_start, len(result))\n",
            "/usr/local/lib/python3.8/dist-packages/sklearn/metrics/_classification.py:1318: UndefinedMetricWarning: Precision and F-score are ill-defined and being set to 0.0 in labels with no predicted samples. Use `zero_division` parameter to control this behavior.\n",
            "  _warn_prf(average, modifier, msg_start, len(result))\n"
          ]
        }
      ]
    },
    {
      "cell_type": "markdown",
      "source": [
        "XGBoost"
      ],
      "metadata": {
        "id": "N-YJas-Xaldj"
      }
    },
    {
      "cell_type": "code",
      "source": [
        "xgboost_model = XGBClassifier().fit(x_train, y_train)\n",
        "\n",
        "y_train_pred = xgboost_model.predict(x_train)\n",
        "\n",
        "y_test_pred= xgboost_model.predict(x_test)"
      ],
      "metadata": {
        "id": "FXkpzthnanER"
      },
      "execution_count": 31,
      "outputs": []
    },
    {
      "cell_type": "code",
      "source": [
        "confusion_matrix_training_xgb = pd.DataFrame((confusion_matrix(y_train, y_train_pred)), ('NoChurn', 'Churn'), ('NoChurn', 'Churn'))\n",
        "\n",
        "plt.figure()\n",
        "heatmap = sns.heatmap(confusion_matrix_training_xgb, annot=True, annot_kws={'size':14}, fmt='d', cmap='YlGnBu')\n",
        "heatmap.yaxis.set_ticklabels(heatmap.yaxis.get_ticklabels(), rotation=0, ha='right', fontsize=14)\n",
        "heatmap.xaxis.set_ticklabels(heatmap.xaxis.get_ticklabels(), rotation=0, ha='right', fontsize=14)\n",
        "\n",
        "plt.title('Confusion Matrix for Training Model\\n(XGBoost)', fontsize=18, color='darkblue')\n",
        "plt.ylabel('True label', fontsize=14)\n",
        "plt.xlabel('Predicted label', fontsize=14)\n",
        "plt.tight_layout()\n",
        "plt.show()"
      ],
      "metadata": {
        "colab": {
          "base_uri": "https://localhost:8080/",
          "height": 297
        },
        "id": "7DQBdoUFaqKb",
        "outputId": "ff32534e-3b2f-486f-903e-99666b58d9eb"
      },
      "execution_count": 32,
      "outputs": [
        {
          "output_type": "display_data",
          "data": {
            "text/plain": [
              "<Figure size 432x288 with 2 Axes>"
            ],
            "image/png": "[encoded data removed]"
          },
          "metadata": {
            "needs_background": "light"
          }
        }
      ]
    },
    {
      "cell_type": "code",
      "source": [
        "print('Classification Report Testing Model (XGB) :')\n",
        "print(classification_report(y_train, y_train_pred))\n",
        "print(f'Accuracy Test Score XGB : {accuracy_score(y_train, y_train_pred)}')"
      ],
      "metadata": {
        "colab": {
          "base_uri": "https://localhost:8080/"
        },
        "id": "Noj7AQUWas2N",
        "outputId": "cc7d7cc9-279b-4d5a-a4ac-d4cc10ff0cc4"
      },
      "execution_count": 33,
      "outputs": [
        {
          "output_type": "stream",
          "name": "stdout",
          "text": [
            "Classification Report Testing Model (XGB) :\n",
            "              precision    recall  f1-score   support\n",
            "\n",
            "         0.0       0.77      0.99      0.87      8937\n",
            "         1.0       0.63      0.03      0.06      2692\n",
            "\n",
            "    accuracy                           0.77     11629\n",
            "   macro avg       0.70      0.51      0.47     11629\n",
            "weighted avg       0.74      0.77      0.68     11629\n",
            "\n",
            "Accuracy Test Score XGB : 0.7716914610026657\n"
          ]
        }
      ]
    },
    {
      "cell_type": "code",
      "source": [
        "confusion_matrix_test_xgb = pd.DataFrame((confusion_matrix(y_test, y_test_pred)), ('NoChurn', 'Churn'), ('NoChurn', 'Churn'))\n",
        "\n",
        "plt.figure()\n",
        "heatmap = sns.heatmap(confusion_matrix_test_xgb, annot=True, annot_kws={'size':14}, fmt='d', cmap='YlGnBu')\n",
        "heatmap.yaxis.set_ticklabels(heatmap.yaxis.get_ticklabels(), rotation=0, ha='right', fontsize=14)\n",
        "heatmap.xaxis.set_ticklabels(heatmap.xaxis.get_ticklabels(), rotation=0, ha='right', fontsize=14)\n",
        "\n",
        "plt.title('Confusion Matrix for Training Model\\n(XGBoost)', fontsize=18, color='darkblue')\n",
        "plt.ylabel('True label', fontsize=14)\n",
        "plt.xlabel('Predicted label', fontsize=14)\n",
        "plt.tight_layout()\n",
        "plt.show()"
      ],
      "metadata": {
        "colab": {
          "base_uri": "https://localhost:8080/",
          "height": 297
        },
        "id": "ERjF352jbEqn",
        "outputId": "ba4b23f2-ce8d-49e8-dfcd-c501f9333a4a"
      },
      "execution_count": 34,
      "outputs": [
        {
          "output_type": "display_data",
          "data": {
            "text/plain": [
              "<Figure size 432x288 with 2 Axes>"
            ],
            "image/png": "[encoded data removed]"
          },
          "metadata": {
            "needs_background": "light"
          }
        }
      ]
    },
    {
      "cell_type": "code",
      "source": [
        "print('Classification Report Testing Model (XGB) :')\n",
        "print(classification_report(y_test, y_test_pred))\n",
        "print(f'Accuracy Test Score XGB : {accuracy_score(y_test, y_test_pred)}')"
      ],
      "metadata": {
        "colab": {
          "base_uri": "https://localhost:8080/"
        },
        "id": "0dQpWYT9bHg5",
        "outputId": "9546c810-c6b0-4782-8228-e4a69c1d0061"
      },
      "execution_count": 35,
      "outputs": [
        {
          "output_type": "stream",
          "name": "stdout",
          "text": [
            "Classification Report Testing Model (XGB) :\n",
            "              precision    recall  f1-score   support\n",
            "\n",
            "         0.0       0.78      0.99      0.87      3839\n",
            "         1.0       0.62      0.03      0.06      1146\n",
            "\n",
            "    accuracy                           0.77      4985\n",
            "   macro avg       0.70      0.51      0.47      4985\n",
            "weighted avg       0.74      0.77      0.69      4985\n",
            "\n",
            "Accuracy Test Score XGB : 0.7731193580742227\n"
          ]
        }
      ]
    },
    {
      "cell_type": "markdown",
      "source": [
        "Random Forrest"
      ],
      "metadata": {
        "id": "18aMJCPcbqGF"
      }
    },
    {
      "cell_type": "code",
      "source": [
        "rf_model = RandomForestClassifier().fit(x_train, y_train)\n",
        "\n",
        "y_train_pred = rf_model.predict(x_train)\n",
        "\n",
        "y_test_pred= rf_model.predict(x_test)"
      ],
      "metadata": {
        "id": "dHESD5Btbplq"
      },
      "execution_count": 36,
      "outputs": []
    },
    {
      "cell_type": "code",
      "source": [
        "confusion_matrix_training_rf= pd.DataFrame((confusion_matrix(y_train, y_train_pred)), ('NoChurn', 'Churn'), ('NoChurn', 'Churn'))\n",
        "\n",
        "plt.figure()\n",
        "heatmap = sns.heatmap(confusion_matrix_training_rf, annot=True, annot_kws={'size':14}, fmt='d', cmap='YlGnBu')\n",
        "heatmap.yaxis.set_ticklabels(heatmap.yaxis.get_ticklabels(), rotation=0, ha='right', fontsize=14)\n",
        "heatmap.xaxis.set_ticklabels(heatmap.xaxis.get_ticklabels(), rotation=0, ha='right', fontsize=14)\n",
        "\n",
        "plt.title('Confusion Matrix for Training Model\\n(Random Forest)', fontsize=18, color='darkblue')\n",
        "plt.ylabel('True label', fontsize=14)\n",
        "plt.xlabel('Predicted label', fontsize=14)\n",
        "plt.tight_layout()\n",
        "plt.show()"
      ],
      "metadata": {
        "colab": {
          "base_uri": "https://localhost:8080/",
          "height": 297
        },
        "id": "CygTiwvBb1JX",
        "outputId": "8fd63c57-80a9-48cc-9624-32a67b9a0253"
      },
      "execution_count": 37,
      "outputs": [
        {
          "output_type": "display_data",
          "data": {
            "text/plain": [
              "<Figure size 432x288 with 2 Axes>"
            ],
            "image/png": "[encoded data removed]"
          },
          "metadata": {
            "needs_background": "light"
          }
        }
      ]
    },
    {
      "cell_type": "code",
      "source": [
        "print('Classification Report Testing Model (RF) :')\n",
        "print(classification_report(y_train, y_train_pred))\n",
        "print(f'Accuracy Test Score RF : {accuracy_score(y_train, y_train_pred)}')"
      ],
      "metadata": {
        "colab": {
          "base_uri": "https://localhost:8080/"
        },
        "id": "HFx12_jCb9tV",
        "outputId": "7a63ceaa-4167-4dc4-ef93-25a50bbc9eb2"
      },
      "execution_count": 38,
      "outputs": [
        {
          "output_type": "stream",
          "name": "stdout",
          "text": [
            "Classification Report Testing Model (RF) :\n",
            "              precision    recall  f1-score   support\n",
            "\n",
            "         0.0       1.00      1.00      1.00      8937\n",
            "         1.0       1.00      1.00      1.00      2692\n",
            "\n",
            "    accuracy                           1.00     11629\n",
            "   macro avg       1.00      1.00      1.00     11629\n",
            "weighted avg       1.00      1.00      1.00     11629\n",
            "\n",
            "Accuracy Test Score RF : 0.9999140080832402\n"
          ]
        }
      ]
    },
    {
      "cell_type": "code",
      "source": [
        "confusion_matrix_test_rf = pd.DataFrame((confusion_matrix(y_test, y_test_pred)), ('NoChurn', 'Churn'), ('NoChurn', 'Churn'))\n",
        "\n",
        "plt.figure()\n",
        "heatmap = sns.heatmap(confusion_matrix_test_rf, annot=True, annot_kws={'size':14}, fmt='d', cmap='YlGnBu')\n",
        "heatmap.yaxis.set_ticklabels(heatmap.yaxis.get_ticklabels(), rotation=0, ha='right', fontsize=14)\n",
        "heatmap.xaxis.set_ticklabels(heatmap.xaxis.get_ticklabels(), rotation=0, ha='right', fontsize=14)\n",
        "\n",
        "plt.title('Confusion Matrix for Training Model\\n(Random forest)', fontsize=18, color='darkblue')\n",
        "plt.ylabel('True label', fontsize=14)\n",
        "plt.xlabel('Predicted label', fontsize=14)\n",
        "plt.tight_layout()\n",
        "plt.show()"
      ],
      "metadata": {
        "colab": {
          "base_uri": "https://localhost:8080/",
          "height": 297
        },
        "id": "JzWEu6bbcCuu",
        "outputId": "e8938387-7c09-4a0c-f4d7-ff5ef45399d9"
      },
      "execution_count": 39,
      "outputs": [
        {
          "output_type": "display_data",
          "data": {
            "text/plain": [
              "<Figure size 432x288 with 2 Axes>"
            ],
            "image/png": "[encoded data removed]"
          },
          "metadata": {
            "needs_background": "light"
          }
        }
      ]
    },
    {
      "cell_type": "code",
      "source": [
        "print('Classification Report Testing Model (RF) :')\n",
        "print(classification_report(y_test, y_test_pred))\n",
        "print(f'Accuracy Test Score RF : {accuracy_score(y_test, y_test_pred)}')"
      ],
      "metadata": {
        "colab": {
          "base_uri": "https://localhost:8080/"
        },
        "id": "EJsE3S-CcGDO",
        "outputId": "6745c344-a818-4854-e00c-474450707744"
      },
      "execution_count": 40,
      "outputs": [
        {
          "output_type": "stream",
          "name": "stdout",
          "text": [
            "Classification Report Testing Model (RF) :\n",
            "              precision    recall  f1-score   support\n",
            "\n",
            "         0.0       0.79      0.83      0.81      3839\n",
            "         1.0       0.32      0.26      0.28      1146\n",
            "\n",
            "    accuracy                           0.70      4985\n",
            "   macro avg       0.55      0.55      0.55      4985\n",
            "weighted avg       0.68      0.70      0.69      4985\n",
            "\n",
            "Accuracy Test Score RF : 0.7011033099297894\n"
          ]
        }
      ]
    },
    {
      "cell_type": "markdown",
      "source": [
        "# Kesimpulan#\n",
        "pada ke empat model yang telah dilakukan, dapat disimpulkan:\n",
        "1. model DecisionTree, pada model ini nilai akurasi data training sebesar 1.0 dan data testing sebesar 0.66 sehingga model dikatakan tidak baik karena jarak nilai akurasi antara data training dan data testing pada model ini menimbulkan over fitting\n",
        "2. model logisticRegression, pada ini nilai akurasi data training sebesar 0.76 dan data testing sebesar 0.77 sehingga model dikatakan tidak baik karena jarak nilai akurasi antara data training dan data testing pada model ini menimbulkan under fitting\n",
        "3. model XGBoost, pada ini nilai akurasi data training sebesar 0.77 dan data testing sebesar 0.77 sehingga model ini dikatakan baik, tidak menimbulkan over fitting dan under fitting.\n",
        "4. model RandomForest, pada ini nilai akurasi data training sebesar 0.99 dan data testing sebesar 0.70 ehingga model dikatakan tidak baik karena jarak nilai akurasi antara data training dan data testing pada model ini menimbulkan over fitting\n",
        "\n",
        "Dapat disimpulkan model yang paling baik diantara ke empat model tersebut adalah model XGboost"
      ],
      "metadata": {
        "id": "ZQNuwZxTck6F"
      }
    }
  ]
}